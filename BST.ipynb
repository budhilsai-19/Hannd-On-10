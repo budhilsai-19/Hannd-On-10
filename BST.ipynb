{
  "nbformat": 4,
  "nbformat_minor": 0,
  "metadata": {
    "colab": {
      "provenance": [],
      "authorship_tag": "ABX9TyP4kbtv189qb0guRcUriiyb",
      "include_colab_link": true
    },
    "kernelspec": {
      "name": "python3",
      "display_name": "Python 3"
    },
    "language_info": {
      "name": "python"
    }
  },
  "cells": [
    {
      "cell_type": "markdown",
      "metadata": {
        "id": "view-in-github",
        "colab_type": "text"
      },
      "source": [
        "<a href=\"https://colab.research.google.com/github/budhilsai-19/Hannd-On-10/blob/main/BST.ipynb\" target=\"_parent\"><img src=\"https://colab.research.google.com/assets/colab-badge.svg\" alt=\"Open In Colab\"/></a>"
      ]
    },
    {
      "cell_type": "code",
      "execution_count": 1,
      "metadata": {
        "colab": {
          "base_uri": "https://localhost:8080/"
        },
        "id": "O84U3ppWV9A6",
        "outputId": "cc1a58ec-ab7d-4db8-a8ed-03e3d7a076c5"
      },
      "outputs": [
        {
          "output_type": "stream",
          "name": "stdout",
          "text": [
            "Searching for 50: <__main__.TreeNode object at 0x7b2f4f7f5030>\n",
            "Inorder traversal: [40, 50, 60, 70, 80, 90]\n",
            "Inorder traversal after deleting 40: [50, 60, 70, 80, 90]\n",
            "Inorder traversal after deleting 90: [50, 60, 70, 80]\n",
            "Inorder traversal after deleting 80: [50, 60, 70]\n",
            "Inorder traversal after deleting 60: [50, 70]\n"
          ]
        }
      ],
      "source": [
        "class TreeNode:\n",
        "    def __init__(self, key):\n",
        "        self.key = key\n",
        "        self.left = None\n",
        "        self.right = None\n",
        "\n",
        "# Define BST class\n",
        "class BST:\n",
        "    def __init__(self):\n",
        "        self.root = None\n",
        "\n",
        "    # Insert a key\n",
        "    def insert(self, key):\n",
        "        self.root = self._insert(self.root, key)\n",
        "\n",
        "    def _insert(self, node, key):\n",
        "        if node is None:\n",
        "            return TreeNode(key)\n",
        "        if key < node.key:\n",
        "            node.left = self._insert(node.left, key)\n",
        "        elif key > node.key:\n",
        "            node.right = self._insert(node.right, key)\n",
        "        return node\n",
        "\n",
        "    # Search for a key\n",
        "    def search(self, key):\n",
        "        return self._search(self.root, key)\n",
        "\n",
        "    def _search(self, node, key):\n",
        "        if node is None or node.key == key:\n",
        "            return node\n",
        "        if key < node.key:\n",
        "            return self._search(node.left, key)\n",
        "        return self._search(node.right, key)\n",
        "\n",
        "    # Delete a key\n",
        "    def delete(self, key):\n",
        "        self.root = self._delete(self.root, key)\n",
        "\n",
        "    def _delete(self, node, key):\n",
        "        if node is None:\n",
        "            return node\n",
        "        if key < node.key:\n",
        "            node.left = self._delete(node.left, key)\n",
        "        elif key > node.key:\n",
        "            node.right = self._delete(node.right, key)\n",
        "        else:\n",
        "            if node.left is None:\n",
        "                return node.right\n",
        "            elif node.right is None:\n",
        "                return node.left\n",
        "            temp = self._min_value_node(node.right)\n",
        "            node.key = temp.key\n",
        "            node.right = self._delete(node.right, temp.key)\n",
        "        return node\n",
        "    def _min_value_node(self, node):\n",
        "        current = node\n",
        "        while current.left is not None:\n",
        "            current = current.left\n",
        "        return current\n",
        "\n",
        "    # Perform an inorder traversal\n",
        "    def inorder_traversal(self):\n",
        "        result = []\n",
        "        self._inorder_traversal(self.root, result)\n",
        "        return result\n",
        "\n",
        "    def _inorder_traversal(self, node, result):\n",
        "        if node:\n",
        "            self._inorder_traversal(node.left, result)\n",
        "            result.append(node.key)\n",
        "            self._inorder_traversal(node.right, result)\n",
        "\n",
        "\n",
        "if __name__ == \"__main__\":\n",
        "    bst = BST()\n",
        "\n",
        "    bst.insert(60)\n",
        "    bst.insert(40)\n",
        "    bst.insert(30)\n",
        "    bst.insert(50)\n",
        "    bst.insert(80)\n",
        "    bst.insert(70)\n",
        "    bst.insert(90)\n",
        "\n",
        "    print(\"Searching for 50:\", bst.search(50))\n",
        "    # Delete an element\n",
        "    bst.delete(30)\n",
        "\n",
        "    # Inorder traversal\n",
        "    print(\"Inorder traversal:\", bst.inorder_traversal())\n",
        "\n",
        "    # Test deleting a node with two children\n",
        "    bst.delete(40)\n",
        "    print(\"Inorder traversal after deleting 40:\", bst.inorder_traversal())\n",
        "\n",
        "    # Test deleting a leaf node\n",
        "    bst.delete(90)\n",
        "    print(\"Inorder traversal after deleting 90:\", bst.inorder_traversal())\n",
        "\n",
        "    # Test deleting a node with one child\n",
        "    bst.delete(80)\n",
        "    print(\"Inorder traversal after deleting 80:\", bst.inorder_traversal())\n",
        "\n",
        "    # Test deleting the root node\n",
        "    bst.delete(60)\n",
        "    print(\"Inorder traversal after deleting 60:\", bst.inorder_traversal())\n",
        ""
      ]
    }
  ]
}